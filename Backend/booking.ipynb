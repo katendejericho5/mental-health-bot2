{
 "cells": [
  {
   "cell_type": "code",
   "execution_count": null,
   "metadata": {},
   "outputs": [],
   "source": [
    "%pip install firebase-admin"
   ]
  },
  {
   "cell_type": "code",
   "execution_count": 4,
   "metadata": {},
   "outputs": [
    {
     "name": "stdout",
     "output_type": "stream",
     "text": [
      "Firebase initialized successfully.\n"
     ]
    }
   ],
   "source": [
    "# import firebase_admin\n",
    "# from firebase_admin import credentials, firestore\n",
    "\n",
    "# try:\n",
    "#     # Initialize Firebase\n",
    "#     cred = credentials.Certificate('/home/jericho/Documents/GitHub/deeplearning/projects/mental-health-bot/Backend/wellcarebot-71cca-firebase-adminsdk-v1v74-7337868583.json')\n",
    "#     firebase_admin.initialize_app(cred)\n",
    "#     db = firestore.client()\n",
    "#     print(\"Firebase initialized successfully.\")\n",
    "# except Exception as e:\n",
    "#     print(f\"Error initializing Firebase: {e}\")\n"
   ]
  },
  {
   "cell_type": "markdown",
   "metadata": {},
   "source": [
    "ADD  AND UPDATE THERAPIST"
   ]
  },
  {
   "cell_type": "code",
   "execution_count": 8,
   "metadata": {},
   "outputs": [
    {
     "name": "stdout",
     "output_type": "stream",
     "text": [
      "Therapist added/updated successfully.\n"
     ]
    }
   ],
   "source": [
    "def add_or_update_therapist(therapist_id, therapist_data):\n",
    "    therapist_ref = db.collection('therapists').document(therapist_id)\n",
    "    therapist_ref.set(therapist_data, merge=True)\n",
    "    return \"Therapist added/updated successfully.\"\n",
    "\n",
    "# Example usage\n",
    "therapist_data = {\n",
    "    'name': 'Dr. Mary Jane Doe',\n",
    "    'specialization': 'Psychologist',\n",
    "    'location': 'Kampala',\n",
    "    'availability': ['2024-08-10T10:00:00', '2024-08-11T14:00:00'],\n",
    "    'contact_info': 'jane.doe@example.com'\n",
    "}\n",
    "\n",
    "print(add_or_update_therapist('therapist_1234', therapist_data))\n"
   ]
  },
  {
   "cell_type": "markdown",
   "metadata": {},
   "source": [
    "create a booking"
   ]
  },
  {
   "cell_type": "code",
   "execution_count": 10,
   "metadata": {},
   "outputs": [
    {
     "name": "stdout",
     "output_type": "stream",
     "text": [
      "Slot not available\n"
     ]
    }
   ],
   "source": [
    "def create_booking(user_id, therapist_id, appointment_date):\n",
    "    therapist_ref = db.collection('therapists').document(therapist_id)\n",
    "    therapist_doc = therapist_ref.get()\n",
    "    therapist_data = therapist_doc.to_dict()\n",
    "\n",
    "    if not therapist_data or appointment_date not in therapist_data.get('availability', []):\n",
    "        return \"Slot not available\"\n",
    "\n",
    "    booking_ref, _ = db.collection('bookings').add({\n",
    "        'user_id': user_id,\n",
    "        'therapist_id': therapist_id,\n",
    "        'appointment_date': appointment_date,\n",
    "        'status': 'confirmed',\n",
    "        'notes': ''\n",
    "    })\n",
    "\n",
    "    # Update therapist availability\n",
    "    therapist_ref.update({\n",
    "        'availability': firestore.ArrayRemove([appointment_date])\n",
    "    })\n",
    "\n",
    "    return f\"Booking created successfully. Booking ID: {booking_ref.id}\"\n",
    "\n",
    "# Example usage\n",
    "print(create_booking('Peter', 'therapist_123', '2024-08-10T10:00:00'))\n"
   ]
  },
  {
   "cell_type": "markdown",
   "metadata": {},
   "source": [
    "retrive therapist availabilty"
   ]
  },
  {
   "cell_type": "code",
   "execution_count": 11,
   "metadata": {},
   "outputs": [
    {
     "name": "stdout",
     "output_type": "stream",
     "text": [
      "['2024-08-11T14:00:00']\n"
     ]
    }
   ],
   "source": [
    "def get_therapist_availability(therapist_id):\n",
    "    therapist_ref = db.collection('therapists').document(therapist_id)\n",
    "    therapist_doc = therapist_ref.get()\n",
    "    if therapist_doc.exists:\n",
    "        return therapist_doc.to_dict().get('availability', [])\n",
    "    else:\n",
    "        return \"Therapist not found\"\n",
    "\n",
    "# Example usage\n",
    "print(get_therapist_availability('therapist_123'))\n"
   ]
  },
  {
   "cell_type": "markdown",
   "metadata": {},
   "source": [
    "list user bookings"
   ]
  },
  {
   "cell_type": "code",
   "execution_count": 13,
   "metadata": {},
   "outputs": [
    {
     "name": "stdout",
     "output_type": "stream",
     "text": [
      "[{'user_id': 'Peter', 'therapist_id': 'therapist_123', 'status': 'confirmed', 'appointment_date': '2024-08-10T10:00:00', 'notes': ''}]\n"
     ]
    }
   ],
   "source": [
    "def list_user_bookings(user_id):\n",
    "    bookings_ref = db.collection('bookings')\n",
    "    query = bookings_ref.where('user_id', '==', user_id).stream()\n",
    "    bookings = [booking.to_dict() for booking in query]\n",
    "    return bookings\n",
    "\n",
    "# Example usage\n",
    "print(list_user_bookings('Peter'))\n"
   ]
  },
  {
   "cell_type": "code",
   "execution_count": null,
   "metadata": {},
   "outputs": [
    {
     "name": "stdout",
     "output_type": "stream",
     "text": [
      "Slot not available\n"
     ]
    }
   ],
   "source": [
    "def create_booking(user_id, therapist_id, appointment_date):\n",
    "    therapist_ref = db.collection('therapists').document(therapist_id)\n",
    "    therapist_doc = therapist_ref.get()\n",
    "    therapist_data = therapist_doc.to_dict()\n",
    "\n",
    "    if not therapist_data or appointment_date not in therapist_data.get('availability', []):\n",
    "        return \"Slot not available\"\n",
    "\n",
    "    booking_ref, _ = db.collection('bookings').add({\n",
    "        'user_id': user_id,\n",
    "        'therapist_id': therapist_id,\n",
    "        'appointment_date': appointment_date,\n",
    "        'status': 'confirmed',\n",
    "        'notes': ''\n",
    "    })\n",
    "\n",
    "    # Update therapist availability\n",
    "    therapist_ref.update({\n",
    "        'availability': firestore.ArrayRemove([appointment_date])\n",
    "    })\n",
    "\n",
    "    return f\"Booking created successfully. Booking ID: {booking_ref.id}\"\n",
    "\n",
    "# Example usage\n",
    "print(create_booking('Peter', 'therapist_123', '2024-08-10T10:00:00'))\n"
   ]
  },
  {
   "cell_type": "code",
   "execution_count": 14,
   "metadata": {},
   "outputs": [
    {
     "name": "stdout",
     "output_type": "stream",
     "text": [
      "fnHeUqUclxM9Ybbx5mEf0Tcd7XU2\n"
     ]
    }
   ],
   "source": [
    "def get_user_id_by_email(email):\n",
    "    users_ref = db.collection('users')\n",
    "    query = users_ref.where('email', '==', email).limit(1)\n",
    "    results = query.stream()\n",
    "\n",
    "    for doc in results:\n",
    "        return doc.id\n",
    "\n",
    "    return None\n",
    "\n",
    "# Example usage\n",
    "user_id = get_user_id_by_email('katendejericho5@gmail.com')\n",
    "print(user_id)\n"
   ]
  },
  {
   "cell_type": "code",
   "execution_count": 24,
   "metadata": {},
   "outputs": [
    {
     "name": "stdout",
     "output_type": "stream",
     "text": [
      "User found: fnHeUqUclxM9Ybbx5mEf0Tcd7XU2\n",
      "Therapist availability: ['2024-08-10T10:00:00', '2024-08-11T14:00:00']\n",
      "Booking created successfully. Booking ID: xy4i3aVIJ6QKK3VZlV5T\n",
      "Booking created successfully. Booking ID: xy4i3aVIJ6QKK3VZlV5T\n"
     ]
    }
   ],
   "source": [
    "def get_user_by_email(email):\n",
    "    users_ref = db.collection('users')\n",
    "    query = users_ref.where('email', '==', email).limit(1)\n",
    "    results = query.stream()\n",
    "\n",
    "    for doc in results:\n",
    "        print(f\"User found: {doc.id}\")\n",
    "        return doc.id, doc.to_dict()\n",
    "\n",
    "    print(\"User not found\")\n",
    "    return None, None\n",
    "\n",
    "def create_booking(email, therapist_id, appointment_date):\n",
    "    user_id, user_data = get_user_by_email(email)\n",
    "    if not user_id:\n",
    "        return \"User not found\"\n",
    "\n",
    "    therapist_ref = db.collection('therapists').document(therapist_id)\n",
    "    therapist_doc = therapist_ref.get()\n",
    "    therapist_data = therapist_doc.to_dict()\n",
    "\n",
    "    # Print the therapist's availability for debugging\n",
    "    print(f\"Therapist availability: {therapist_data.get('availability', [])}\")\n",
    "\n",
    "    if not therapist_data or appointment_date not in therapist_data.get('availability', []):\n",
    "        return \"Slot not available\"\n",
    "\n",
    "    booking_data = {\n",
    "        'user_id': user_id,\n",
    "        'user_name': user_data['fullName'],\n",
    "        'user_email': user_data['email'],\n",
    "        'user_phone': user_data['phoneNumber'],\n",
    "        'user_profile_picture_url': user_data['profilePictureURL'],\n",
    "        'therapist_id': therapist_id,\n",
    "        'appointment_date': appointment_date,\n",
    "        'status': 'confirmed',\n",
    "        'notes': ''\n",
    "    }\n",
    "\n",
    "    booking_ref = db.collection('bookings').add(booking_data)[1]  # Extracting the DocumentReference from the tuple\n",
    "\n",
    "    # Update therapist availability\n",
    "    therapist_ref.update({\n",
    "        'availability': firestore.ArrayRemove([appointment_date])\n",
    "    })\n",
    "\n",
    "    print(f\"Booking created successfully. Booking ID: {booking_ref.id}\")\n",
    "    return f\"Booking created successfully. Booking ID: {booking_ref.id}\"\n",
    "\n",
    "# Example usage with an available date\n",
    "print(create_booking('katendejericho5@gmail.com', 'therapist_1234', '2024-08-11T14:00:00'))"
   ]
  },
  {
   "cell_type": "markdown",
   "metadata": {},
   "source": [
    "changed time foramt"
   ]
  },
  {
   "cell_type": "code",
   "execution_count": 31,
   "metadata": {},
   "outputs": [
    {
     "name": "stdout",
     "output_type": "stream",
     "text": [
      "User found: HEklKe4yVMgPcVmOONUkehKJfxh2\n",
      "Therapist availability: ['2024-08-10T10:00:00']\n",
      "Parsed appointment_date: 2024-08-10 10:00:00\n",
      "Booking created successfully. Booking ID: 9DPvYAXQqafWw8zlJnUn\n",
      "Booking created successfully. Booking ID: 9DPvYAXQqafWw8zlJnUn\n"
     ]
    }
   ],
   "source": [
    "from datetime import datetime\n",
    "\n",
    "\n",
    "def get_user_by_email(email):\n",
    "    users_ref = db.collection('users')\n",
    "    query = users_ref.where('email', '==', email).limit(1)\n",
    "    results = query.stream()\n",
    "\n",
    "    for doc in results:\n",
    "        print(f\"User found: {doc.id}\")\n",
    "        return doc.id, doc.to_dict()\n",
    "\n",
    "    print(\"User not found\")\n",
    "    return None, None\n",
    "\n",
    "def create_booking(email, therapist_id, appointment_date):\n",
    "    user_id, user_data = get_user_by_email(email)\n",
    "    if not user_id:\n",
    "        return \"User not found\"\n",
    "\n",
    "    therapist_ref = db.collection('therapists').document(therapist_id)\n",
    "    therapist_doc = therapist_ref.get()\n",
    "    therapist_data = therapist_doc.to_dict()\n",
    "\n",
    "    # Print the therapist's availability for debugging\n",
    "    print(f\"Therapist availability: {therapist_data.get('availability', [])}\")\n",
    "\n",
    "    if not therapist_data:\n",
    "        return \"Therapist not found\"\n",
    "    \n",
    "    # Check if the appointment_date is in the correct format\n",
    "    try:\n",
    "        appointment_datetime = datetime.fromisoformat(appointment_date)\n",
    "        print(f\"Parsed appointment_date: {appointment_datetime}\")\n",
    "    except ValueError:\n",
    "        return \"Invalid date format. Please use YYYY-MM-DDTHH:MM:SS\"\n",
    "\n",
    "    year = appointment_datetime.year\n",
    "    month = appointment_datetime.month\n",
    "    day = appointment_datetime.day\n",
    "    time = appointment_datetime.time().isoformat()\n",
    "\n",
    "    if appointment_date not in therapist_data.get('availability', []):\n",
    "        return \"Slot not available\"\n",
    "\n",
    "    booking_data = {\n",
    "        'user_id': user_id,\n",
    "        'user_name': user_data['fullName'],\n",
    "        'user_email': user_data['email'],\n",
    "        'user_phone': user_data['phoneNumber'],\n",
    "        'user_profile_picture_url': user_data['profilePictureURL'],\n",
    "        'therapist_id': therapist_id,\n",
    "        'appointment_date': appointment_date,\n",
    "        'year': year,\n",
    "        'month': month,\n",
    "        'day': day,\n",
    "        'time': time,\n",
    "        'status': 'confirmed',\n",
    "        'notes': ''\n",
    "    }\n",
    "\n",
    "    # Add booking to the 'bookings' collection\n",
    "    booking_ref = db.collection('bookings').add(booking_data)[1]  # Extracting the DocumentReference from the tuple\n",
    "\n",
    "    # Update therapist availability\n",
    "    therapist_ref.update({\n",
    "        'availability': firestore.ArrayRemove([appointment_date])\n",
    "    })\n",
    "\n",
    "    print(f\"Booking created successfully. Booking ID: {booking_ref.id}\")\n",
    "    return f\"Booking created successfully. Booking ID: {booking_ref.id}\"\n",
    "\n",
    "# Example usage with an available date\n",
    "print(create_booking('jerichokatende5@gmail.com', 'therapist_1234', '2024-08-10T10:00:00'))"
   ]
  },
  {
   "cell_type": "code",
   "execution_count": null,
   "metadata": {},
   "outputs": [],
   "source": []
  }
 ],
 "metadata": {
  "kernelspec": {
   "display_name": "jericho-gZJxJXtS",
   "language": "python",
   "name": "python3"
  },
  "language_info": {
   "codemirror_mode": {
    "name": "ipython",
    "version": 3
   },
   "file_extension": ".py",
   "mimetype": "text/x-python",
   "name": "python",
   "nbconvert_exporter": "python",
   "pygments_lexer": "ipython3",
   "version": "3.12.3"
  }
 },
 "nbformat": 4,
 "nbformat_minor": 2
}
